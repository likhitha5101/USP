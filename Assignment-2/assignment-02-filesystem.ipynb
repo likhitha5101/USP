{
 "cells": [
  {
   "cell_type": "markdown",
   "metadata": {
    "autoscroll": false,
    "ein.hycell": false,
    "ein.tags": "worksheet-0",
    "slideshow": {
     "slide_type": "-"
    }
   },
   "source": [
    "# Exercise 1\n",
    "1.  Launch a terminal.\n",
    "2.  Create three directories named `letters, reports` and `assignment`\n",
    "    under your home directory.\n",
    "3.  Move to directory `letters`.\n",
    "4.  Create two directories named `friendly` and `formal` under the\n",
    "    `letters` directory.\n",
    "5.  Move to directory `reports` using only one command (directly from\n",
    "    `letters`).\n",
    "6.  Create three directories called `personal`, `business`, and `school`\n",
    "    under the directory `reports` (use only one command).\n",
    "7.  Create a directory called `UNIX` under the `assignments` directory.\n",
    "    The directories in this step should be created without moving from\n",
    "    the `reports` directory.\n",
    "8.  Move to your home directory.\n",
    "9.  Recursively list all of the directories you created and draw the\n",
    "    directory structure on paper.\n",
    "10. Quit the terminal.\n",
    "\n"
   ]
  },
  {
   "cell_type": "code",
   "execution_count": 6,
   "metadata": {},
   "outputs": [],
   "source": [
    "mkdir letters reports assignment"
   ]
  },
  {
   "cell_type": "code",
   "execution_count": 8,
   "metadata": {},
   "outputs": [
    {
     "name": "stdout",
     "output_type": "stream",
     "text": [
      "\u001b[0m\u001b[34;42massignment\u001b[0m  \u001b[34;42mletters\u001b[0m  \u001b[34;42mreports\u001b[0m\n"
     ]
    }
   ],
   "source": [
    "ls"
   ]
  },
  {
   "cell_type": "code",
   "execution_count": 9,
   "metadata": {},
   "outputs": [],
   "source": [
    "cd letters"
   ]
  },
  {
   "cell_type": "code",
   "execution_count": 10,
   "metadata": {},
   "outputs": [],
   "source": [
    "mkdir friendly formal"
   ]
  },
  {
   "cell_type": "code",
   "execution_count": 11,
   "metadata": {},
   "outputs": [],
   "source": [
    "cd ../reports"
   ]
  },
  {
   "cell_type": "code",
   "execution_count": 12,
   "metadata": {},
   "outputs": [],
   "source": [
    "mkdir personal business school"
   ]
  },
  {
   "cell_type": "code",
   "execution_count": 13,
   "metadata": {},
   "outputs": [],
   "source": [
    "mkdir ../assignment/UNIX"
   ]
  },
  {
   "cell_type": "code",
   "execution_count": 14,
   "metadata": {},
   "outputs": [
    {
     "name": "stdout",
     "output_type": "stream",
     "text": [
      "/mnt/c/Users/Likhitha/Documents/Lab_Assignments/UNIX/A2/reports\n"
     ]
    }
   ],
   "source": [
    "pwd"
   ]
  },
  {
   "cell_type": "code",
   "execution_count": 15,
   "metadata": {},
   "outputs": [],
   "source": [
    "cd .."
   ]
  },
  {
   "cell_type": "code",
   "execution_count": 16,
   "metadata": {},
   "outputs": [
    {
     "name": "stdout",
     "output_type": "stream",
     "text": [
      ".:\n",
      "\u001b[0m\u001b[34;42massignment\u001b[0m  \u001b[34;42mletters\u001b[0m  \u001b[34;42mreports\u001b[0m\n",
      "\n",
      "./assignment:\n",
      "\u001b[34;42mUNIX\u001b[0m\n",
      "\n",
      "./assignment/UNIX:\n",
      "\n",
      "./letters:\n",
      "\u001b[34;42mformal\u001b[0m  \u001b[34;42mfriendly\u001b[0m\n",
      "\n",
      "./letters/formal:\n",
      "\n",
      "./letters/friendly:\n",
      "\n",
      "./reports:\n",
      "\u001b[34;42mbusiness\u001b[0m  \u001b[34;42mpersonal\u001b[0m  \u001b[34;42mschool\u001b[0m\n",
      "\n",
      "./reports/business:\n",
      "\n",
      "./reports/personal:\n",
      "\n",
      "./reports/school:\n"
     ]
    }
   ],
   "source": [
    "ls -R"
   ]
  },
  {
   "cell_type": "markdown",
   "metadata": {
    "autoscroll": false,
    "ein.hycell": false,
    "ein.tags": "worksheet-0",
    "slideshow": {
     "slide_type": "-"
    }
   },
   "source": [
    "# Exercise 2\n",
    "\n",
    "1.  Launch a terminal.\n",
    "2.  Recursivcly list the directories under your home directory (the ones\n",
    "    created in Exercise 1).\n",
    "3.  Move to the `UNIX` directory.\n",
    "4.  Check your current directory.\n",
    "5.  Using `vi`, create a file named `hw4` that contains some text.\n",
    "6.  Save the file (it should be saved under the `UNIX` directory).\n",
    "7.  Move to your home directory\n",
    "8.  Print the content of `hw4` from your home directory.\n",
    "9.  Make a copy of `hw4` and call it `hw4.bk`. Store it under the same\n",
    "    directory where `hw4` is stored.\n",
    "10. From your home directory, check to see if both files (`hw4` and\n",
    "    `hw4.bk`) exist.\n",
    "11. Move to the `UNIX` directory.\n",
    "12. Check your current working directory.\n",
    "13. Make a hard link to the `hw4` file. The link should be under the\n",
    "    `UNIX` subdirectory and be called `hw4HL`.\n",
    "14. Make a soft link to `hw4` called `hw4SL` and store it under the\n",
    "    `UNIX` directory.\n",
    "15. Check the inode of `hw4, hw4.bk, hw4HL`, and `hw4SL`. Are all the\n",
    "    same? Are all different? Explain how you determined the answer.\n",
    "16. Use `ls` command to find the file types of `hw4, hw4.bk, hw4HL` and\n",
    "    `hw4SL`. Explain your observation.\n",
    "17. Quit the terminal.\n",
    "\n"
   ]
  },
  {
   "cell_type": "code",
   "execution_count": 17,
   "metadata": {},
   "outputs": [
    {
     "name": "stdout",
     "output_type": "stream",
     "text": [
      ".:\n",
      "\u001b[0m\u001b[34;42massignment\u001b[0m  \u001b[34;42mletters\u001b[0m  \u001b[34;42mreports\u001b[0m\n",
      "\n",
      "./assignment:\n",
      "\u001b[34;42mUNIX\u001b[0m\n",
      "\n",
      "./assignment/UNIX:\n",
      "\n",
      "./letters:\n",
      "\u001b[34;42mformal\u001b[0m  \u001b[34;42mfriendly\u001b[0m\n",
      "\n",
      "./letters/formal:\n",
      "\n",
      "./letters/friendly:\n",
      "\n",
      "./reports:\n",
      "\u001b[34;42mbusiness\u001b[0m  \u001b[34;42mpersonal\u001b[0m  \u001b[34;42mschool\u001b[0m\n",
      "\n",
      "./reports/business:\n",
      "\n",
      "./reports/personal:\n",
      "\n",
      "./reports/school:\n"
     ]
    }
   ],
   "source": [
    "ls -R"
   ]
  },
  {
   "cell_type": "code",
   "execution_count": 18,
   "metadata": {},
   "outputs": [],
   "source": [
    "cd assignment/UNIX"
   ]
  },
  {
   "cell_type": "code",
   "execution_count": 19,
   "metadata": {},
   "outputs": [
    {
     "name": "stdout",
     "output_type": "stream",
     "text": [
      "/mnt/c/Users/Likhitha/Documents/Lab_Assignments/UNIX/A2/assignment/UNIX\n"
     ]
    }
   ],
   "source": [
    "pwd"
   ]
  },
  {
   "cell_type": "code",
   "execution_count": 5,
   "metadata": {},
   "outputs": [],
   "source": [
    "cd ../Documents/Lab_Assignments/UNIX/A2/assignment/UNIX\n"
   ]
  },
  {
   "cell_type": "code",
   "execution_count": 6,
   "metadata": {},
   "outputs": [
    {
     "name": "stdout",
     "output_type": "stream",
     "text": [
      "Assignment 2\n",
      "Unix and Shell Programming\n"
     ]
    }
   ],
   "source": [
    "cat hw4"
   ]
  },
  {
   "cell_type": "code",
   "execution_count": 9,
   "metadata": {},
   "outputs": [],
   "source": [
    "mv hw4.bak hw4"
   ]
  },
  {
   "cell_type": "code",
   "execution_count": 11,
   "metadata": {},
   "outputs": [],
   "source": [
    "cp hw4 hw4.bak"
   ]
  },
  {
   "cell_type": "code",
   "execution_count": 12,
   "metadata": {},
   "outputs": [
    {
     "name": "stdout",
     "output_type": "stream",
     "text": [
      "\u001b[0m\u001b[01;32mhw4\u001b[0m  \u001b[01;32mhw4.bak\u001b[0m\n"
     ]
    }
   ],
   "source": [
    "ls"
   ]
  },
  {
   "cell_type": "code",
   "execution_count": 13,
   "metadata": {},
   "outputs": [],
   "source": [
    "ln hw4 hw4HL"
   ]
  },
  {
   "cell_type": "code",
   "execution_count": 14,
   "metadata": {},
   "outputs": [
    {
     "name": "stdout",
     "output_type": "stream",
     "text": [
      "\u001b[0m\u001b[01;32mhw4\u001b[0m  \u001b[01;32mhw4.bak\u001b[0m  \u001b[01;32mhw4HL\u001b[0m\n"
     ]
    }
   ],
   "source": [
    "ls"
   ]
  },
  {
   "cell_type": "code",
   "execution_count": 15,
   "metadata": {},
   "outputs": [],
   "source": [
    "ln -s hw4 hw4SL"
   ]
  },
  {
   "cell_type": "code",
   "execution_count": 16,
   "metadata": {},
   "outputs": [
    {
     "name": "stdout",
     "output_type": "stream",
     "text": [
      "1125899907363942 \u001b[0m\u001b[01;32mhw4\u001b[0m      1125899907363942 \u001b[01;32mhw4HL\u001b[0m\n",
      "1125899907364289 \u001b[01;32mhw4.bak\u001b[0m  1407374884074988 \u001b[01;36mhw4SL\u001b[0m\n"
     ]
    }
   ],
   "source": [
    "ls -i"
   ]
  },
  {
   "cell_type": "code",
   "execution_count": 17,
   "metadata": {},
   "outputs": [
    {
     "name": "stdout",
     "output_type": "stream",
     "text": [
      "total 0\n",
      "1125899907363942 -rwxrwxrwx 2 Likhitha Likhitha 40 Sep  5 13:08 \u001b[0m\u001b[01;32mhw4\u001b[0m\n",
      "1125899907364289 -rwxrwxrwx 1 Likhitha Likhitha 40 Sep  5 13:17 \u001b[01;32mhw4.bak\u001b[0m\n",
      "1125899907363942 -rwxrwxrwx 2 Likhitha Likhitha 40 Sep  5 13:08 \u001b[01;32mhw4HL\u001b[0m\n",
      "1407374884074988 lrwxrwxrwx 1 Likhitha Likhitha  3 Sep  5 13:20 \u001b[01;36mhw4SL\u001b[0m -> \u001b[01;32mhw4\u001b[0m\n"
     ]
    }
   ],
   "source": [
    "ls -il"
   ]
  },
  {
   "cell_type": "markdown",
   "metadata": {
    "autoscroll": false,
    "ein.hycell": false,
    "ein.tags": "worksheet-0",
    "slideshow": {
     "slide_type": "-"
    }
   },
   "source": [
    "# Exercise 3\n",
    "1.  Launch a terminal.\n",
    "2.  Create a backup directory in your home directory called `backups`.\n",
    "3.  Use the `find` command to find the pathnames of all of the files\n",
    "    (`hw4, hw4.bk, hw4HL, hw4SL`) that you created in Exercise 2 (read\n",
    "    from the Internet about how to use `find`). All of them should be\n",
    "    found using only one find command. The command must also copy all of\n",
    "    them to the `backups` directory.\n",
    "\n",
    "        find ~ -name hw4* -exec cp {} backups\\;\n",
    "\n",
    "4.  Check the number of links and inode number of (`hw4, hw4.bk, hw4HL,\n",
    "     hw4SL`). Make note of the results.\n",
    "5.  Delete the original `hw4` file without moving from your\n",
    "    home directory.\n",
    "6.  Check the existence of `hw4, hw4.bk, hw4HL, hw4SL`.\n",
    "7.  Check the contents of `hw4, hw4.bk, hw4HL, hw4SL`.\n",
    "8.  Restore `hw4` by making a copy of `hw4.bk`.\n",
    "9.  You may have noticed that your soft link (`hw4SL`) contains garbage.\n",
    "    Delete this file.\n",
    "10. Make a soft link to `hw4` and save it as `hw4SL` under the same\n",
    "    directory as it was.\n",
    "11. List recursively all of your files and directories to confirm\n",
    "    all operations.\n",
    "12. Draw the directory structure of your home directory.\n",
    "13. Quit the terminal.\n",
    "\n"
   ]
  },
  {
   "cell_type": "code",
   "execution_count": 35,
   "metadata": {},
   "outputs": [
    {
     "name": "stdout",
     "output_type": "stream",
     "text": [
      "/mnt/c/Users/Likhitha/Documents/Lab_Assignments/UNIX/A2/assignment/UNIX\n"
     ]
    }
   ],
   "source": [
    "pwd"
   ]
  },
  {
   "cell_type": "code",
   "execution_count": 36,
   "metadata": {},
   "outputs": [],
   "source": [
    "cd ../.."
   ]
  },
  {
   "cell_type": "code",
   "execution_count": 38,
   "metadata": {},
   "outputs": [
    {
     "name": "stdout",
     "output_type": "stream",
     "text": [
      "/mnt/c/Users/Likhitha/Documents/Lab_Assignments/UNIX/A2\n"
     ]
    }
   ],
   "source": [
    "pwd"
   ]
  },
  {
   "cell_type": "code",
   "execution_count": 41,
   "metadata": {},
   "outputs": [],
   "source": [
    "mkdir backups"
   ]
  },
  {
   "cell_type": "code",
   "execution_count": 58,
   "metadata": {},
   "outputs": [],
   "source": [
    "find ~ -name \"hw4*\" -exec cp {} backups \\;"
   ]
  },
  {
   "cell_type": "code",
   "execution_count": 61,
   "metadata": {},
   "outputs": [
    {
     "name": "stdout",
     "output_type": "stream",
     "text": [
      "total 0\n",
      "1125899907363942 -rwxrwxrwx 2 Likhitha Likhitha 40 Sep  5 13:08 \u001b[0m\u001b[01;32mhw4\u001b[0m\n",
      "1125899907364289 -rwxrwxrwx 1 Likhitha Likhitha 40 Sep  5 13:17 \u001b[01;32mhw4.bak\u001b[0m\n",
      "1125899907363942 -rwxrwxrwx 2 Likhitha Likhitha 40 Sep  5 13:08 \u001b[01;32mhw4HL\u001b[0m\n",
      "1407374884074988 lrwxrwxrwx 1 Likhitha Likhitha  3 Sep  5 13:20 \u001b[01;36mhw4SL\u001b[0m -> \u001b[01;32mhw4\u001b[0m\n"
     ]
    }
   ],
   "source": [
    "ls -il assignment/UNIX"
   ]
  },
  {
   "cell_type": "code",
   "execution_count": 62,
   "metadata": {},
   "outputs": [],
   "source": [
    "rm assignment/UNIX/hw4"
   ]
  },
  {
   "cell_type": "code",
   "execution_count": 63,
   "metadata": {},
   "outputs": [
    {
     "name": "stdout",
     "output_type": "stream",
     "text": [
      "total 0\n",
      "1125899907364289 -rwxrwxrwx 1 Likhitha Likhitha 40 Sep  5 13:17 \u001b[0m\u001b[01;32mhw4.bak\u001b[0m\n",
      "1125899907363942 -rwxrwxrwx 1 Likhitha Likhitha 40 Sep  5 13:08 \u001b[01;32mhw4HL\u001b[0m\n",
      "1407374884074988 lrwxrwxrwx 1 Likhitha Likhitha  3 Sep  5 13:20 \u001b[40;31;01mhw4SL\u001b[0m -> \u001b[40;31;01mhw4\u001b[0m\n"
     ]
    }
   ],
   "source": [
    "ls -il assignment/UNIX"
   ]
  },
  {
   "cell_type": "code",
   "execution_count": 74,
   "metadata": {},
   "outputs": [],
   "source": [
    "cd assignment/UNIX"
   ]
  },
  {
   "cell_type": "code",
   "execution_count": 75,
   "metadata": {},
   "outputs": [
    {
     "name": "stdout",
     "output_type": "stream",
     "text": [
      "Assignment 2\n",
      "Unix and Shell Programming\n",
      "Assignment 2\n",
      "Unix and Shell Programming\n",
      "Assignment 2\n",
      "Unix and Shell Programming\n",
      "cat: hw4SL: No such file or directory\n"
     ]
    },
    {
     "ename": "",
     "evalue": "1",
     "output_type": "error",
     "traceback": []
    }
   ],
   "source": [
    "cat hw4*"
   ]
  },
  {
   "cell_type": "code",
   "execution_count": 76,
   "metadata": {},
   "outputs": [],
   "source": [
    "cp hw4.bak hw4 "
   ]
  },
  {
   "cell_type": "code",
   "execution_count": 77,
   "metadata": {},
   "outputs": [],
   "source": [
    "rm hw4SL"
   ]
  },
  {
   "cell_type": "code",
   "execution_count": 78,
   "metadata": {},
   "outputs": [],
   "source": [
    "ln -s hw4 hw4SL"
   ]
  },
  {
   "cell_type": "code",
   "execution_count": 79,
   "metadata": {},
   "outputs": [
    {
     "name": "stdout",
     "output_type": "stream",
     "text": [
      "total 0\n",
      "1970324837479402 -rwxrwxrwx 1 Likhitha Likhitha 40 Sep  5 19:20 \u001b[0m\u001b[01;32mhw4\u001b[0m\n",
      "1125899907364289 -rwxrwxrwx 1 Likhitha Likhitha 40 Sep  5 13:17 \u001b[01;32mhw4.bak\u001b[0m\n",
      "1125899907363942 -rwxrwxrwx 1 Likhitha Likhitha 40 Sep  5 13:08 \u001b[01;32mhw4HL\u001b[0m\n",
      "4222124651050469 lrwxrwxrwx 1 Likhitha Likhitha  3 Sep  5 19:20 \u001b[01;36mhw4SL\u001b[0m -> \u001b[01;32mhw4\u001b[0m\n"
     ]
    }
   ],
   "source": [
    "ls -il"
   ]
  },
  {
   "cell_type": "code",
   "execution_count": 80,
   "metadata": {},
   "outputs": [
    {
     "name": "stdout",
     "output_type": "stream",
     "text": [
      "Assignment 2\n",
      "Unix and Shell Programming\n",
      "Assignment 2\n",
      "Unix and Shell Programming\n",
      "Assignment 2\n",
      "Unix and Shell Programming\n",
      "Assignment 2\n",
      "Unix and Shell Programming\n"
     ]
    }
   ],
   "source": [
    "cat hw4*"
   ]
  },
  {
   "cell_type": "code",
   "execution_count": 83,
   "metadata": {},
   "outputs": [
    {
     "name": "stdout",
     "output_type": "stream",
     "text": [
      "../..:\n",
      "total 0\n",
      "drwxrwxrwx 1 Likhitha Likhitha 4096 Sep  5 13:02 \u001b[0m\u001b[34;42massignment\u001b[0m\n",
      "drwxrwxrwx 1 Likhitha Likhitha 4096 Sep  5 18:44 \u001b[34;42mbackups\u001b[0m\n",
      "lrwxrwxrwx 1 Likhitha Likhitha    3 Sep  5 19:16 \u001b[40;31;01mhw4SL\u001b[0m -> \u001b[40;31;01mhw4\u001b[0m\n",
      "drwxrwxrwx 1 Likhitha Likhitha 4096 Sep  5 13:00 \u001b[34;42mletters\u001b[0m\n",
      "drwxrwxrwx 1 Likhitha Likhitha 4096 Sep  5 13:01 \u001b[34;42mreports\u001b[0m\n",
      "\n",
      "../../assignment:\n",
      "total 0\n",
      "drwxrwxrwx 1 Likhitha Likhitha 4096 Sep  5 19:20 \u001b[34;42mUNIX\u001b[0m\n",
      "\n",
      "../../assignment/UNIX:\n",
      "total 0\n",
      "-rwxrwxrwx 1 Likhitha Likhitha 40 Sep  5 19:20 \u001b[01;32mhw4\u001b[0m\n",
      "-rwxrwxrwx 1 Likhitha Likhitha 40 Sep  5 13:17 \u001b[01;32mhw4.bak\u001b[0m\n",
      "-rwxrwxrwx 1 Likhitha Likhitha 40 Sep  5 13:08 \u001b[01;32mhw4HL\u001b[0m\n",
      "lrwxrwxrwx 1 Likhitha Likhitha  3 Sep  5 19:20 \u001b[01;36mhw4SL\u001b[0m -> \u001b[01;32mhw4\u001b[0m\n",
      "\n",
      "../../backups:\n",
      "total 0\n",
      "\n",
      "../../letters:\n",
      "total 0\n",
      "drwxrwxrwx 1 Likhitha Likhitha 4096 Sep  5 13:00 \u001b[34;42mformal\u001b[0m\n",
      "drwxrwxrwx 1 Likhitha Likhitha 4096 Sep  5 13:00 \u001b[34;42mfriendly\u001b[0m\n",
      "\n",
      "../../letters/formal:\n",
      "total 0\n",
      "\n",
      "../../letters/friendly:\n",
      "total 0\n",
      "\n",
      "../../reports:\n",
      "total 0\n",
      "drwxrwxrwx 1 Likhitha Likhitha 4096 Sep  5 13:01 \u001b[34;42mbusiness\u001b[0m\n",
      "drwxrwxrwx 1 Likhitha Likhitha 4096 Sep  5 13:01 \u001b[34;42mpersonal\u001b[0m\n",
      "drwxrwxrwx 1 Likhitha Likhitha 4096 Sep  5 13:01 \u001b[34;42mschool\u001b[0m\n",
      "\n",
      "../../reports/business:\n",
      "total 0\n",
      "\n",
      "../../reports/personal:\n",
      "total 0\n",
      "\n",
      "../../reports/school:\n",
      "total 0\n"
     ]
    }
   ],
   "source": [
    "ls -lR ../.."
   ]
  },
  {
   "cell_type": "markdown",
   "metadata": {
    "autoscroll": false,
    "ein.hycell": false,
    "ein.tags": "worksheet-0",
    "slideshow": {
     "slide_type": "-"
    }
   },
   "source": [
    "# Exercise 4\n",
    "\n",
    "1.  Launch a terminal.\n",
    "2.  Use wildcards to display all of the files you have created under the\n",
    "    `HWs` without moving from your home directory.\n",
    "3.  Rename `hw4.bk` to `hw4.bak`\n",
    "4.  Create a short friendly letter, called `friend.1` using `vi` and\n",
    "    store it under the `friendly` directory.\n",
    "5.  Create a short formal letter, called `formal.1` using `vi` and store\n",
    "    it under the formal directory. Give a subject to `formal.1` letter.\n",
    "6.  Copy the file `formal.1` and call the new copy `formal.2`\n",
    "7.  Change only the subject of `formal.2` using `vi` and save it.\n",
    "8.  Using wildcards, print the contents of `formal.1` and `formal.2`\n",
    "9.  Make a directory called `business` under your home directory.\n",
    "10. Move the formal directory (with all of its contents) under the\n",
    "    `business` directory.\n",
    "11. Make a recursive list of your directory structure.\n",
    "12. Draw the new directory structure on paper.\n",
    "13. Quit the terminal.\n",
    "\n"
   ]
  },
  {
   "cell_type": "code",
   "execution_count": 86,
   "metadata": {},
   "outputs": [
    {
     "name": "stdout",
     "output_type": "stream",
     "text": [
      "/mnt/c/Users/Likhitha/Documents/Lab_Assignments/UNIX/A2/assignment/UNIX\n"
     ]
    }
   ],
   "source": [
    "pwd"
   ]
  },
  {
   "cell_type": "code",
   "execution_count": 87,
   "metadata": {},
   "outputs": [],
   "source": [
    "cd ../.."
   ]
  },
  {
   "cell_type": "code",
   "execution_count": 93,
   "metadata": {},
   "outputs": [
    {
     "name": "stdout",
     "output_type": "stream",
     "text": [
      "\u001b[0m\u001b[01;32massignment/UNIX/hw4\u001b[0m     \u001b[01;32massignment/UNIX/hw4HL\u001b[0m\n",
      "\u001b[01;32massignment/UNIX/hw4.bk\u001b[0m  \u001b[01;36massignment/UNIX/hw4SL\u001b[0m\n"
     ]
    }
   ],
   "source": [
    "ls assignment/UNIX/hw*"
   ]
  },
  {
   "cell_type": "code",
   "execution_count": 90,
   "metadata": {},
   "outputs": [],
   "source": [
    "mv assignment/UNIX/hw4.bak assignment/UNIX/hw4.bk"
   ]
  },
  {
   "cell_type": "code",
   "execution_count": 92,
   "metadata": {},
   "outputs": [
    {
     "name": "stdout",
     "output_type": "stream",
     "text": [
      "\u001b[0m\u001b[34;42massignment\u001b[0m  \u001b[34;42mbackups\u001b[0m  \u001b[34;42mletters\u001b[0m  \u001b[34;42mreports\u001b[0m\n"
     ]
    }
   ],
   "source": [
    "ls"
   ]
  },
  {
   "cell_type": "code",
   "execution_count": 94,
   "metadata": {},
   "outputs": [],
   "source": [
    "cp letters/formal/formal.1 letters/formal/formal.2"
   ]
  },
  {
   "cell_type": "code",
   "execution_count": 96,
   "metadata": {},
   "outputs": [
    {
     "name": "stdout",
     "output_type": "stream",
     "text": [
      "formal letter\n",
      "formal letter\n"
     ]
    }
   ],
   "source": [
    "cat letters/formal/formal.*"
   ]
  },
  {
   "cell_type": "code",
   "execution_count": 97,
   "metadata": {},
   "outputs": [],
   "source": [
    "mkdir business"
   ]
  },
  {
   "cell_type": "code",
   "execution_count": 98,
   "metadata": {},
   "outputs": [],
   "source": [
    "mv letters/formal business"
   ]
  },
  {
   "cell_type": "code",
   "execution_count": 99,
   "metadata": {},
   "outputs": [
    {
     "name": "stdout",
     "output_type": "stream",
     "text": [
      ".:\n",
      "\u001b[0m\u001b[34;42massignment\u001b[0m  \u001b[34;42mbackups\u001b[0m  \u001b[34;42mbusiness\u001b[0m  \u001b[34;42mletters\u001b[0m  \u001b[34;42mreports\u001b[0m\n",
      "\n",
      "./assignment:\n",
      "\u001b[34;42mUNIX\u001b[0m\n",
      "\n",
      "./assignment/UNIX:\n",
      "\u001b[01;32mhw4\u001b[0m  \u001b[01;32mhw4.bk\u001b[0m  \u001b[01;32mhw4HL\u001b[0m  \u001b[01;36mhw4SL\u001b[0m\n",
      "\n",
      "./backups:\n",
      "\n",
      "./business:\n",
      "\u001b[34;42mformal\u001b[0m\n",
      "\n",
      "./business/formal:\n",
      "\u001b[01;32mformal.1\u001b[0m  \u001b[01;32mformal.2\u001b[0m\n",
      "\n",
      "./letters:\n",
      "\u001b[34;42mfriendly\u001b[0m\n",
      "\n",
      "./letters/friendly:\n",
      "\u001b[01;32mfriend.1\u001b[0m\n",
      "\n",
      "./reports:\n",
      "\u001b[34;42mbusiness\u001b[0m  \u001b[34;42mpersonal\u001b[0m  \u001b[34;42mschool\u001b[0m\n",
      "\n",
      "./reports/business:\n",
      "\n",
      "./reports/personal:\n",
      "\n",
      "./reports/school:\n"
     ]
    }
   ],
   "source": [
    "ls -R"
   ]
  }
 ],
 "metadata": {
  "kernelspec": {
   "display_name": "Bash",
   "language": "bash",
   "name": "bash"
  },
  "language_info": {
   "codemirror_mode": "shell",
   "file_extension": ".sh",
   "mimetype": "text/x-sh",
   "name": "bash"
  },
  "name": "Untitled.ipynb"
 },
 "nbformat": 4,
 "nbformat_minor": 2
}
