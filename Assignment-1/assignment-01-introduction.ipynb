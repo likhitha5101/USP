{
 "cells": [
  {
   "cell_type": "markdown",
   "metadata": {
    "ein.tags": "worksheet-0",
    "slideshow": {
     "slide_type": "-"
    }
   },
   "source": [
    "# Simple commands\n",
    "1. Log into your system. What are the user id (username) and password?\n",
    "2. Launch a terminal. Identify the prompt. What is it?\n",
    "3. Launch a terminal, maximize the window. Define a profile with the\n",
    "color built-in scheme \\`\\`Black on light yellow''. Set your new\n",
    "profile as the default profile.\n",
    "4. Try these commands:"
   ]
  },
  {
   "cell_type": "markdown",
   "metadata": {
    "ein.tags": "worksheet-0",
    "slideshow": {
     "slide_type": "-"
    }
   },
   "source": [
    "## `echo`\n",
    "- `echo string`\n",
    "- `echo *`\n",
    "- `echo`"
   ]
  },
  {
   "cell_type": "code",
   "execution_count": 1,
   "metadata": {
    "autoscroll": false,
    "ein.hycell": false,
    "ein.tags": "worksheet-0",
    "slideshow": {
     "slide_type": "-"
    }
   },
   "outputs": [
    {
     "name": "stdout",
     "output_type": "stream",
     "text": [
      "Hello, bash!\n",
      "assignment-01-introduction.ipynb assignment-02-filesystem.ipynb assignment-03-permissions.ipynb assignment-04-shell-intro.ipynb assignment-05-filters.ipynb assignment-06-grep.ipynb assignment-07-sed.ipynb\n"
     ]
    }
   ],
   "source": [
    "echo \"Hello, bash!\"\n",
    "echo *"
   ]
  },
  {
   "cell_type": "markdown",
   "metadata": {
    "ein.tags": "worksheet-0",
    "slideshow": {
     "slide_type": "-"
    }
   },
   "source": [
    "## `date`\n",
    "-   Print date in dd-mm-yyyy format. Refer to the `man` page for\n",
    "    `date` to find out the option for this format.\n",
    "    ``` {.example}\n",
    "    man date\n",
    "    ```\n",
    "-   Print time in hh-mm-ss format, hh is 0-24 hours.\n",
    "\n"
   ]
  },
  {
   "cell_type": "code",
   "execution_count": 14,
   "metadata": {},
   "outputs": [
    {
     "name": "stdout",
     "output_type": "stream",
     "text": [
      "(31 08 19)\n",
      "12:13:53  IST\n"
     ]
    }
   ],
   "source": [
    "date +(%d %m %y)\n",
    "date +%X"
   ]
  },
  {
   "cell_type": "markdown",
   "metadata": {
    "ein.tags": "worksheet-0",
    "slideshow": {
     "slide_type": "-"
    }
   },
   "source": [
    "## `cal`\n",
    "-   Print the calendar for the current month.\n",
    "-   Print the calendar for year 2020.\n",
    "-   Print the calendar for July 2020."
   ]
  },
  {
   "cell_type": "code",
   "execution_count": 15,
   "metadata": {},
   "outputs": [
    {
     "name": "stdout",
     "output_type": "stream",
     "text": [
      "    August 2019       \n",
      "Su Mo Tu We Th Fr Sa  \n",
      "             1  2  3  \n",
      " 4  5  6  7  8  9 10  \n",
      "11 12 13 14 15 16 17  \n",
      "18 19 20 21 22 23 24  \n",
      "25 26 27 28 29 30 \u001b[7m31\u001b[27m  \n",
      "                      \n"
     ]
    }
   ],
   "source": [
    "cal\n"
   ]
  },
  {
   "cell_type": "code",
   "execution_count": 16,
   "metadata": {},
   "outputs": [
    {
     "name": "stdout",
     "output_type": "stream",
     "text": [
      "                            2020\n",
      "      January               February               March          \n",
      "Su Mo Tu We Th Fr Sa  Su Mo Tu We Th Fr Sa  Su Mo Tu We Th Fr Sa  \n",
      "          1  2  3  4                     1   1  2  3  4  5  6  7  \n",
      " 5  6  7  8  9 10 11   2  3  4  5  6  7  8   8  9 10 11 12 13 14  \n",
      "12 13 14 15 16 17 18   9 10 11 12 13 14 15  15 16 17 18 19 20 21  \n",
      "19 20 21 22 23 24 25  16 17 18 19 20 21 22  22 23 24 25 26 27 28  \n",
      "26 27 28 29 30 31     23 24 25 26 27 28 29  29 30 31              \n",
      "                                                                  \n",
      "\n",
      "       April                  May                   June          \n",
      "Su Mo Tu We Th Fr Sa  Su Mo Tu We Th Fr Sa  Su Mo Tu We Th Fr Sa  \n",
      "          1  2  3  4                  1  2      1  2  3  4  5  6  \n",
      " 5  6  7  8  9 10 11   3  4  5  6  7  8  9   7  8  9 10 11 12 13  \n",
      "12 13 14 15 16 17 18  10 11 12 13 14 15 16  14 15 16 17 18 19 20  \n",
      "19 20 21 22 23 24 25  17 18 19 20 21 22 23  21 22 23 24 25 26 27  \n",
      "26 27 28 29 30        24 25 26 27 28 29 30  28 29 30              \n",
      "                      31                                          \n",
      "\n",
      "        July                 August              September        \n",
      "Su Mo Tu We Th Fr Sa  Su Mo Tu We Th Fr Sa  Su Mo Tu We Th Fr Sa  \n",
      "          1  2  3  4                     1         1  2  3  4  5  \n",
      " 5  6  7  8  9 10 11   2  3  4  5  6  7  8   6  7  8  9 10 11 12  \n",
      "12 13 14 15 16 17 18   9 10 11 12 13 14 15  13 14 15 16 17 18 19  \n",
      "19 20 21 22 23 24 25  16 17 18 19 20 21 22  20 21 22 23 24 25 26  \n",
      "26 27 28 29 30 31     23 24 25 26 27 28 29  27 28 29 30           \n",
      "                      30 31                                       \n",
      "\n",
      "      October               November              December        \n",
      "Su Mo Tu We Th Fr Sa  Su Mo Tu We Th Fr Sa  Su Mo Tu We Th Fr Sa  \n",
      "             1  2  3   1  2  3  4  5  6  7         1  2  3  4  5  \n",
      " 4  5  6  7  8  9 10   8  9 10 11 12 13 14   6  7  8  9 10 11 12  \n",
      "11 12 13 14 15 16 17  15 16 17 18 19 20 21  13 14 15 16 17 18 19  \n",
      "18 19 20 21 22 23 24  22 23 24 25 26 27 28  20 21 22 23 24 25 26  \n",
      "25 26 27 28 29 30 31  29 30                 27 28 29 30 31        \n",
      "                                                                  \n"
     ]
    }
   ],
   "source": [
    "cal 2020"
   ]
  },
  {
   "cell_type": "code",
   "execution_count": 17,
   "metadata": {},
   "outputs": [
    {
     "name": "stdout",
     "output_type": "stream",
     "text": [
      "     July 2020        \n",
      "Su Mo Tu We Th Fr Sa  \n",
      "          1  2  3  4  \n",
      " 5  6  7  8  9 10 11  \n",
      "12 13 14 15 16 17 18  \n",
      "19 20 21 22 23 24 25  \n",
      "26 27 28 29 30 31     \n",
      "                      \n"
     ]
    }
   ],
   "source": [
    "cal July 2020"
   ]
  },
  {
   "cell_type": "markdown",
   "metadata": {
    "ein.tags": "worksheet-0",
    "slideshow": {
     "slide_type": "-"
    }
   },
   "source": [
    "## `who`, `whoami`"
   ]
  },
  {
   "cell_type": "code",
   "execution_count": 18,
   "metadata": {},
   "outputs": [
    {
     "name": "stdout",
     "output_type": "stream",
     "text": [
      "Likhitha   :0           2019-08-31 11:28 (:0)\n",
      "Likhitha\n"
     ]
    }
   ],
   "source": [
    "who\n",
    "whoami"
   ]
  },
  {
   "cell_type": "markdown",
   "metadata": {
    "ein.tags": "worksheet-0",
    "slideshow": {
     "slide_type": "-"
    }
   },
   "source": [
    "## `uname`\n",
    "   - options `-a`, `-s`, `-r`, `-sr`"
   ]
  },
  {
   "cell_type": "code",
   "execution_count": 19,
   "metadata": {},
   "outputs": [
    {
     "name": "stdout",
     "output_type": "stream",
     "text": [
      "Linux\n"
     ]
    }
   ],
   "source": [
    "uname"
   ]
  },
  {
   "cell_type": "code",
   "execution_count": 20,
   "metadata": {},
   "outputs": [
    {
     "name": "stdout",
     "output_type": "stream",
     "text": [
      "Linux Likhitha-PC 5.0.0-25-generic #26~18.04.1-Ubuntu SMP Thu Aug 1 13:51:02 UTC 2019 x86_64 x86_64 x86_64 GNU/Linux\n"
     ]
    }
   ],
   "source": [
    "uname -a"
   ]
  },
  {
   "cell_type": "code",
   "execution_count": 23,
   "metadata": {},
   "outputs": [
    {
     "name": "stdout",
     "output_type": "stream",
     "text": [
      "Linux 5.0.0-25-generic\n"
     ]
    }
   ],
   "source": [
    "uname -sr"
   ]
  },
  {
   "cell_type": "markdown",
   "metadata": {
    "ein.tags": "worksheet-0",
    "slideshow": {
     "slide_type": "-"
    }
   },
   "source": [
    "## `df -h`\n",
    "-   How many partitions does your hard disk have? What is the\n",
    "    total size of the disk?"
   ]
  },
  {
   "cell_type": "code",
   "execution_count": 24,
   "metadata": {},
   "outputs": [
    {
     "name": "stdout",
     "output_type": "stream",
     "text": [
      "Filesystem      Size  Used Avail Use% Mounted on\n",
      "udev            7.8G     0  7.8G   0% /dev\n",
      "tmpfs           1.6G  2.1M  1.6G   1% /run\n",
      "/dev/sda7       151G  124G   19G  87% /\n",
      "tmpfs           7.8G   63M  7.8G   1% /dev/shm\n",
      "tmpfs           5.0M  4.0K  5.0M   1% /run/lock\n",
      "tmpfs           7.8G     0  7.8G   0% /sys/fs/cgroup\n",
      "/dev/loop1       43M   43M     0 100% /snap/gtk-common-themes/1313\n",
      "/dev/loop0      141M  141M     0 100% /snap/gnome-3-26-1604/90\n",
      "/dev/loop2      1.0M  1.0M     0 100% /snap/gnome-logs/61\n",
      "/dev/loop3       55M   55M     0 100% /snap/core18/1055\n",
      "/dev/loop4       15M   15M     0 100% /snap/gnome-characters/296\n",
      "/dev/loop7       36M   36M     0 100% /snap/gtk-common-themes/1198\n",
      "/dev/loop6      4.2M  4.2M     0 100% /snap/gnome-calculator/352\n",
      "/dev/loop5       89M   89M     0 100% /snap/core/7396\n",
      "/dev/loop8      182M  182M     0 100% /snap/spotify/36\n",
      "/dev/loop9       55M   55M     0 100% /snap/core18/1074\n",
      "/dev/loop11     1.0M  1.0M     0 100% /snap/gnome-logs/57\n",
      "/dev/loop12      15M   15M     0 100% /snap/gnome-characters/206\n",
      "/dev/loop14     3.8M  3.8M     0 100% /snap/gnome-system-monitor/70\n",
      "/dev/loop10     144M  144M     0 100% /snap/gnome-3-28-1804/23\n",
      "/dev/loop15     141M  141M     0 100% /snap/gnome-3-26-1604/82\n",
      "/dev/loop13     4.2M  4.2M     0 100% /snap/gnome-calculator/406\n",
      "/dev/loop17     174M  174M     0 100% /snap/spotify/34\n",
      "/dev/loop19     150M  150M     0 100% /snap/gnome-3-28-1804/71\n",
      "/dev/loop18     3.8M  3.8M     0 100% /snap/gnome-system-monitor/100\n",
      "/dev/loop16      90M   90M     0 100% /snap/core/6673\n",
      "/dev/sda1       256M   85M  172M  33% /boot/efi\n",
      "tmpfs           1.6G   16K  1.6G   1% /run/user/121\n",
      "tmpfs           1.6G   84K  1.6G   1% /run/user/1000\n"
     ]
    }
   ],
   "source": [
    "df -h"
   ]
  },
  {
   "cell_type": "markdown",
   "metadata": {
    "ein.tags": "worksheet-0",
    "slideshow": {
     "slide_type": "-"
    }
   },
   "source": [
    "## `history`"
   ]
  },
  {
   "cell_type": "code",
   "execution_count": 25,
   "metadata": {},
   "outputs": [
    {
     "name": "stdout",
     "output_type": "stream",
     "text": [
      " 2055  echo $?\n",
      " 2056  uname -s\n",
      " 2057  echo $?\n",
      " 2058  uname -r\n",
      " 2059  echo $?\n",
      " 2060  uname -sr\n",
      " 2061  echo $?\n",
      " 2062  df -h\n",
      " 2063  echo $?\n",
      " 2064  history | tail\n"
     ]
    }
   ],
   "source": [
    "history | tail"
   ]
  },
  {
   "cell_type": "markdown",
   "metadata": {
    "ein.tags": "worksheet-0",
    "slideshow": {
     "slide_type": "-"
    }
   },
   "source": [
    "## `clear`\n"
   ]
  },
  {
   "cell_type": "code",
   "execution_count": 26,
   "metadata": {},
   "outputs": [
    {
     "name": "stdout",
     "output_type": "stream",
     "text": [
      "\u001b[3J\u001b[H\u001b[2J"
     ]
    }
   ],
   "source": [
    "clear"
   ]
  },
  {
   "cell_type": "markdown",
   "metadata": {
    "ein.tags": "worksheet-0",
    "slideshow": {
     "slide_type": "-"
    }
   },
   "source": [
    "# Files\n",
    "## `cat`\n",
    "-   Create a file `poem.txt` with\n",
    "    ``` {.example}\n",
    "    cat > poem.txt\n",
    "    ```\n",
    "    and typing the lines on the `stdin` (standard input).\n",
    "-   Print (display) the contents of `poem.txt` on `stdout`\n",
    "    (standard output)\n",
    "\n"
   ]
  },
  {
   "cell_type": "code",
   "execution_count": 4,
   "metadata": {},
   "outputs": [],
   "source": [
    "cat poem.txt"
   ]
  },
  {
   "cell_type": "markdown",
   "metadata": {
    "ein.tags": "worksheet-0",
    "slideshow": {
     "slide_type": "-"
    }
   },
   "source": [
    "##  `touch`\n",
    "-   `touch poem` to update the time stamp of `poem.txt`\n",
    "-   Create a new empty file with `touch newpoem.txt`. Check the size\n",
    "    of `newpoem.txt`.\n",
    "-   Create `another-poem.txt`."
   ]
  },
  {
   "cell_type": "code",
   "execution_count": 5,
   "metadata": {},
   "outputs": [],
   "source": [
    "touch poem.txt\n",
    "touch newpoem.txt"
   ]
  },
  {
   "cell_type": "markdown",
   "metadata": {
    "ein.tags": "worksheet-0",
    "slideshow": {
     "slide_type": "-"
    }
   },
   "source": [
    "## `ls`\n",
    "-   List the contents of your home directory.\n",
    "-   List the contents of your home directory.\n",
    "    -   long format\n",
    "    -   modified time order\n",
    "    -   reverse modified time order\n",
    "\n"
   ]
  },
  {
   "cell_type": "code",
   "execution_count": 6,
   "metadata": {},
   "outputs": [
    {
     "name": "stdout",
     "output_type": "stream",
     "text": [
      "assignment-01-introduction.ipynb  assignment-06-grep.ipynb\n",
      "assignment-02-filesystem.ipynb    assignment-07-sed.ipynb\n",
      "assignment-03-permissions.ipynb   newpoem.txt\n",
      "assignment-04-shell-intro.ipynb   poem.txt\n",
      "assignment-05-filters.ipynb\n"
     ]
    }
   ],
   "source": [
    "ls\n"
   ]
  },
  {
   "cell_type": "code",
   "execution_count": 7,
   "metadata": {},
   "outputs": [
    {
     "name": "stdout",
     "output_type": "stream",
     "text": [
      "total 76\n",
      "-rw-rw-r-- 1 Likhitha Likhitha 17696 Sep  3 19:53 assignment-01-introduction.ipynb\n",
      "-rw-rw-r-- 1 Likhitha Likhitha  6216 Aug 31 12:06 assignment-02-filesystem.ipynb\n",
      "-rw-rw-r-- 1 Likhitha Likhitha  3846 Aug 31 12:07 assignment-03-permissions.ipynb\n",
      "-rw-rw-r-- 1 Likhitha Likhitha  9012 Aug 31 12:08 assignment-04-shell-intro.ipynb\n",
      "-rw-rw-r-- 1 Likhitha Likhitha 13672 Aug 31 12:09 assignment-05-filters.ipynb\n",
      "-rw-rw-r-- 1 Likhitha Likhitha  7690 Aug 31 12:09 assignment-06-grep.ipynb\n",
      "-rw-rw-r-- 1 Likhitha Likhitha  7645 Aug 31 12:10 assignment-07-sed.ipynb\n",
      "-rw-r--r-- 1 Likhitha Likhitha     0 Sep  3 19:53 newpoem.txt\n",
      "-rw-r--r-- 1 Likhitha Likhitha     0 Sep  3 19:53 poem.txt\n"
     ]
    }
   ],
   "source": [
    "ls -l\n"
   ]
  },
  {
   "cell_type": "markdown",
   "metadata": {
    "ein.tags": "worksheet-0",
    "slideshow": {
     "slide_type": "-"
    }
   },
   "source": [
    "# Filesystem\n",
    "## ``pwd``\n",
    "   -   What is your home directory?\n"
   ]
  },
  {
   "cell_type": "code",
   "execution_count": 9,
   "metadata": {},
   "outputs": [
    {
     "name": "stdout",
     "output_type": "stream",
     "text": [
      "/home/Likhitha\n"
     ]
    }
   ],
   "source": [
    "pwd"
   ]
  },
  {
   "cell_type": "markdown",
   "metadata": {
    "ein.tags": "worksheet-0",
    "slideshow": {
     "slide_type": "-"
    }
   },
   "source": [
    "## `cd`\n",
    "   -   Move to your home directory."
   ]
  },
  {
   "cell_type": "markdown",
   "metadata": {
    "ein.tags": "worksheet-0",
    "slideshow": {
     "slide_type": "-"
    }
   },
   "source": [
    "## `mkdir`\n",
    "   -   Create a directory `myname` in your home.\n",
    "   -   Move to `myname`.\n",
    "   -   In `myname`, create the following directory structure. Check\n",
    "       with `tree`.\n",
    "       ``` {.example}\n",
    "      +-- junk\n",
    "      +-- recipes\n",
    "          +-- cookie\n",
    "          |   +-- choc.chip\n",
    "          +-- pie\n",
    "              +-- apple\n",
    "              +-- crust\n",
    "      ```"
   ]
  },
  {
   "cell_type": "code",
   "execution_count": 10,
   "metadata": {},
   "outputs": [],
   "source": [
    "mkdir myname\n",
    "cd myname\n",
    "mkdir -p junk recipies/cookie/choco.chip recipies/pie/apple recipies/pie/crust"
   ]
  },
  {
   "cell_type": "markdown",
   "metadata": {
    "ein.tags": "worksheet-0",
    "slideshow": {
     "slide_type": "-"
    }
   },
   "source": [
    "-   Move to `crust`."
   ]
  },
  {
   "cell_type": "code",
   "execution_count": 19,
   "metadata": {},
   "outputs": [],
   "source": [
    "cd recipies/pie/crust\n"
   ]
  },
  {
   "cell_type": "markdown",
   "metadata": {
    "ein.tags": "worksheet-0",
    "slideshow": {
     "slide_type": "-"
    }
   },
   "source": [
    "-   Move to `choc.chip`."
   ]
  },
  {
   "cell_type": "code",
   "execution_count": 20,
   "metadata": {},
   "outputs": [],
   "source": [
    "cd ../../cookie/choco.chip"
   ]
  },
  {
   "cell_type": "markdown",
   "metadata": {
    "ein.tags": "worksheet-0",
    "slideshow": {
     "slide_type": "-"
    }
   },
   "source": [
    "-   Move to `myhome`."
   ]
  },
  {
   "cell_type": "code",
   "execution_count": 21,
   "metadata": {},
   "outputs": [],
   "source": [
    "cd "
   ]
  },
  {
   "cell_type": "markdown",
   "metadata": {
    "ein.tags": "worksheet-0",
    "slideshow": {
     "slide_type": "-"
    }
   },
   "source": [
    "## `rmdir`\n",
    "   -   Create a file `dish1` in `apple`."
   ]
  },
  {
   "cell_type": "code",
   "execution_count": 22,
   "metadata": {},
   "outputs": [],
   "source": [
    "touch myname/recipies/pie/apple/dish1"
   ]
  },
  {
   "cell_type": "markdown",
   "metadata": {
    "ein.tags": "worksheet-0",
    "slideshow": {
     "slide_type": "-"
    }
   },
   "source": [
    "-   Remove directory `apple`."
   ]
  },
  {
   "cell_type": "code",
   "execution_count": 23,
   "metadata": {},
   "outputs": [
    {
     "name": "stdout",
     "output_type": "stream",
     "text": [
      "rm: cannot remove 'myname/recipies/pie/apple': Is a directory\n"
     ]
    },
    {
     "ename": "",
     "evalue": "1",
     "output_type": "error",
     "traceback": []
    }
   ],
   "source": [
    "rmdir  myname/recipies/pie/apple"
   ]
  },
  {
   "cell_type": "markdown",
   "metadata": {
    "ein.tags": "worksheet-0",
    "slideshow": {
     "slide_type": "-"
    }
   },
   "source": [
    "-   Remove the file `dish1` in `apple`."
   ]
  },
  {
   "cell_type": "code",
   "execution_count": 24,
   "metadata": {},
   "outputs": [],
   "source": [
    "rm  myname/recipies/pie/apple/dish1"
   ]
  },
  {
   "cell_type": "markdown",
   "metadata": {
    "ein.tags": "worksheet-0",
    "slideshow": {
     "slide_type": "-"
    }
   },
   "source": [
    "-   Now remove directory `apple`."
   ]
  },
  {
   "cell_type": "code",
   "execution_count": 26,
   "metadata": {},
   "outputs": [],
   "source": [
    "rmdir  myname/recipies/pie/apple"
   ]
  },
  {
   "cell_type": "markdown",
   "metadata": {
    "ein.tags": "worksheet-0",
    "slideshow": {
     "slide_type": "-"
    }
   },
   "source": [
    "## `cp`\n",
    "-   Create a file `dish1` in `crust`."
   ]
  },
  {
   "cell_type": "code",
   "execution_count": 45,
   "metadata": {},
   "outputs": [],
   "source": [
    "touch ~/myname/recipies/pie/crust/dish1"
   ]
  },
  {
   "cell_type": "markdown",
   "metadata": {
    "ein.tags": "worksheet-0",
    "slideshow": {
     "slide_type": "-"
    }
   },
   "source": [
    "-   Copy `dish1` to `dish2`."
   ]
  },
  {
   "cell_type": "code",
   "execution_count": 46,
   "metadata": {},
   "outputs": [],
   "source": [
    "cd ~/myname/recipies/pie/crust/\n",
    "cp dish1 dish2"
   ]
  },
  {
   "cell_type": "markdown",
   "metadata": {
    "ein.tags": "worksheet-0",
    "slideshow": {
     "slide_type": "-"
    }
   },
   "source": [
    "-   List the contents of `crust`."
   ]
  },
  {
   "cell_type": "code",
   "execution_count": 47,
   "metadata": {},
   "outputs": [
    {
     "name": "stdout",
     "output_type": "stream",
     "text": [
      "dish1  dish2\n"
     ]
    }
   ],
   "source": [
    "ls"
   ]
  },
  {
   "cell_type": "markdown",
   "metadata": {
    "ein.tags": "worksheet-0",
    "slideshow": {
     "slide_type": "-"
    }
   },
   "source": [
    "-   Copy the contents in `crust` to `apple`."
   ]
  },
  {
   "cell_type": "code",
   "execution_count": 50,
   "metadata": {},
   "outputs": [],
   "source": [
    "mkdir ../apple\n",
    "cp * ../apple/"
   ]
  },
  {
   "cell_type": "markdown",
   "metadata": {
    "ein.tags": "worksheet-0",
    "slideshow": {
     "slide_type": "-"
    }
   },
   "source": [
    "## `mv`\n",
    "-   Rename `dish1` to `cookie1`, and `dish2` to `cookie2`.\n",
    "-   Move both `cookie1` and `cookie2` to the directory `cookie`\n",
    "-   Move `recipe` directory to `junk` directory."
   ]
  },
  {
   "cell_type": "code",
   "execution_count": 51,
   "metadata": {},
   "outputs": [],
   "source": [
    "\n",
    "mv dish1 cookie1\n",
    "mv dish2 cookie2\n",
    "mv cookie* ../../cookie/"
   ]
  },
  {
   "cell_type": "markdown",
   "metadata": {
    "ein.tags": "worksheet-0",
    "slideshow": {
     "slide_type": "-"
    }
   },
   "source": [
    "## `rm`\n",
    "-   Remove `dish1` in `apple`.\n",
    "-   Remove `cookie1` and `cookie2` in `cookie`.\n",
    "-   Remove `recipe` direcory in `junk`."
   ]
  },
  {
   "cell_type": "code",
   "execution_count": 53,
   "metadata": {},
   "outputs": [],
   "source": [
    "rm -r ~/myname/recipies"
   ]
  },
  {
   "cell_type": "code",
   "execution_count": null,
   "metadata": {},
   "outputs": [],
   "source": []
  }
 ],
 "metadata": {
  "kernelspec": {
   "display_name": "Bash",
   "language": "bash",
   "name": "bash"
  },
  "language_info": {
   "codemirror_mode": "shell",
   "file_extension": ".sh",
   "mimetype": "text/x-sh",
   "name": "bash"
  },
  "name": "assignment-01-introduction.ipynb"
 },
 "nbformat": 4,
 "nbformat_minor": 2
}
