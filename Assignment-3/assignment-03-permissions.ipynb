{
 "cells": [
  {
   "cell_type": "markdown",
   "metadata": {
    "autoscroll": false,
    "ein.hycell": false,
    "ein.tags": "worksheet-0",
    "slideshow": {
     "slide_type": "-"
    }
   },
   "source": [
    "# Exercise 1\n",
    "1.  Launch a terminal.\n",
    "2.  Check which group or groups you belong to.\n",
    "3.  Use the `umask` command to set the default permission to `700`. What\n",
    "    is the default permission for files after this command?\n",
    "4.  Create a directory named `chapter4` under your home directory.\n",
    "5.  Check the default permission of this directory. Is it `700`?\n",
    "6.  Create a directory under the `chapter4` directory (without moving\n",
    "    from your home directory) and name it `session1`.\n",
    "7.  Check the permission of this directory. Is it `700`?\n",
    "8.  Move to the `session1` directory.\n",
    "9.  Create a file named `hw41` under this directory. Save this file.\n",
    "10. Check the permission of this file. Is it `700` or `600`? Why?\n",
    "    Explain the difference between the permissions for files\n",
    "    and directories.\n",
    "11. Do users in your group have any access to this file? Do other users\n",
    "    (outside of your group) have any access to this file?\n",
    "12. Change the permissions to allow users in your group only to copy\n",
    "    this file to their own directories. Is there a need to change the\n",
    "    permission of any directories? If yes, make necessary changes.\n",
    "13. Let a user in your group copy this file into her home directory. Was\n",
    "    the copy successful? If not, find the reason and take the\n",
    "    appropriate action(s) to correct it. Then try again with the other\n",
    "    user in your group.\n",
    "14. Quit the terminal.\n",
    "\n"
   ]
  },
  {
   "cell_type": "markdown",
   "metadata": {},
   "source": [
    "2.  Check which group or groups you belong to."
   ]
  },
  {
   "cell_type": "code",
   "execution_count": 1,
   "metadata": {},
   "outputs": [
    {
     "name": "stdout",
     "output_type": "stream",
     "text": [
      "Likhitha adm cdrom sudo dip plugdev input lpadmin sambashare\n"
     ]
    }
   ],
   "source": [
    "groups"
   ]
  },
  {
   "cell_type": "markdown",
   "metadata": {},
   "source": [
    "3.  Use the `umask` command to set the default permission to `700`."
   ]
  },
  {
   "cell_type": "code",
   "execution_count": 2,
   "metadata": {},
   "outputs": [],
   "source": [
    "umask 077"
   ]
  },
  {
   "cell_type": "markdown",
   "metadata": {},
   "source": [
    "4.  Create a directory named `chapter4` under your home directory.\n",
    "5.  Check the default permission of this directory."
   ]
  },
  {
   "cell_type": "code",
   "execution_count": 10,
   "metadata": {},
   "outputs": [
    {
     "name": "stdout",
     "output_type": "stream",
     "text": [
      "drwx------ 2 Likhitha Likhitha 4096 Sep  5 19:04 \u001b[0m\u001b[01;34mchapter4\u001b[0m\n"
     ]
    }
   ],
   "source": [
    "mkdir chapter4\n",
    "ls -ld chapter4"
   ]
  },
  {
   "cell_type": "markdown",
   "metadata": {},
   "source": [
    "6.  Create a directory under the `chapter4` directory (without moving\n",
    "    from your home directory) and name it `session1`.\n",
    "7.  Check the permission of this directory."
   ]
  },
  {
   "cell_type": "code",
   "execution_count": 11,
   "metadata": {},
   "outputs": [
    {
     "name": "stdout",
     "output_type": "stream",
     "text": [
      "drwx------ 2 Likhitha Likhitha 4096 Sep  5 19:05 \u001b[0m\u001b[01;34mchapter4/session1\u001b[0m\n"
     ]
    }
   ],
   "source": [
    "mkdir chapter4/session1\n",
    "ls -ld chapter4/session1"
   ]
  },
  {
   "cell_type": "markdown",
   "metadata": {},
   "source": [
    "8.  Move to the `session1` directory.\n",
    "9.  Create a file named `hw41` under this directory. Save this file.\n",
    "10. Check the permission of this file."
   ]
  },
  {
   "cell_type": "code",
   "execution_count": 7,
   "metadata": {
    "scrolled": true
   },
   "outputs": [
    {
     "name": "stdout",
     "output_type": "stream",
     "text": [
      "total 0\n",
      "-rw------- 1 Likhitha Likhitha 0 Sep  5 18:57 hw41\n"
     ]
    }
   ],
   "source": [
    "cd chapter4/session1\n",
    "touch hw41\n",
    "ls -l"
   ]
  },
  {
   "cell_type": "markdown",
   "metadata": {},
   "source": [
    "12. Change the permissions to allow users in your group only to copy\n",
    "    this file to their own directories."
   ]
  },
  {
   "cell_type": "code",
   "execution_count": 8,
   "metadata": {},
   "outputs": [],
   "source": [
    "chmod g+rw hw41"
   ]
  },
  {
   "cell_type": "markdown",
   "metadata": {},
   "source": [
    "13. Let a user in your group copy this file into her home directory."
   ]
  },
  {
   "cell_type": "code",
   "execution_count": 9,
   "metadata": {},
   "outputs": [],
   "source": [
    "cp hw41 ~/hw41"
   ]
  },
  {
   "cell_type": "markdown",
   "metadata": {
    "autoscroll": false,
    "ein.hycell": false,
    "ein.tags": "worksheet-0",
    "slideshow": {
     "slide_type": "-"
    }
   },
   "source": [
    "# Exercise 2\n",
    "\n",
    "1.  Launch a terminal.\n",
    "2.  Check which group or groups you belong to.\n",
    "3.  Check your default mask.\n",
    "4.  Create a d1rectory called `garbage` under your home directory.\n",
    "5.  Check the permission of this directory. Make a note of it.\n",
    "6.  Change your default mask so that the default permission is `664`.\n",
    "    What is the default permission for directories after you make this\n",
    "    change?\n",
    "7.  Check the permission for the `garbage` directory. Has it been\n",
    "    changed after setting the default mask? Why or why not?\n",
    "8.  Delete this directory.\n",
    "9.  Create a directory called `session2` under the `chapter4` directory.\n",
    "10. Check the permission of this directory and make a note of it.\n",
    "11. Remove the `x` permission for the user from this directory.\n",
    "12. Move to the `session2` directory. You should have a problem. Do you\n",
    "    know what the problem is? Fix the problem.\n",
    "13. Create a file named `hw42` under this directory. Save this file.\n",
    "14. Check the permissions of this file. Can users in your group copy\n",
    "    this file? Can they change this file? Can users outside your group\n",
    "    copy this file? Can they change this file? Is this file executable?\n",
    "15. Change the permissions of this file so that every user can read,\n",
    "    modify, but not execute this file.\n",
    "16. Quit the terminal.\n",
    "\n"
   ]
  },
  {
   "cell_type": "markdown",
   "metadata": {},
   "source": [
    "2.  Check which group or groups you belong to.\n",
    "3.  Check your default mask."
   ]
  },
  {
   "cell_type": "code",
   "execution_count": 12,
   "metadata": {},
   "outputs": [
    {
     "name": "stdout",
     "output_type": "stream",
     "text": [
      "Likhitha adm cdrom sudo dip plugdev input lpadmin sambashare\n",
      "0077\n"
     ]
    }
   ],
   "source": [
    "groups\n",
    "umask"
   ]
  },
  {
   "cell_type": "markdown",
   "metadata": {},
   "source": [
    "4.  Create a d1rectory called `garbage` under your home directory.\n",
    "5.  Check the permission of this directory. Make a note of it."
   ]
  },
  {
   "cell_type": "code",
   "execution_count": 13,
   "metadata": {},
   "outputs": [
    {
     "name": "stdout",
     "output_type": "stream",
     "text": [
      "drwx------ 2 Likhitha Likhitha 4096 Sep  5 19:15 \u001b[0m\u001b[01;34mgarbage\u001b[0m\n"
     ]
    }
   ],
   "source": [
    "mkdir garbage\n",
    "ls -ld garbage"
   ]
  },
  {
   "cell_type": "markdown",
   "metadata": {},
   "source": [
    "6.  Change your default mask so that the default permission is `664`."
   ]
  },
  {
   "cell_type": "code",
   "execution_count": 14,
   "metadata": {},
   "outputs": [],
   "source": [
    "umask 113"
   ]
  },
  {
   "cell_type": "markdown",
   "metadata": {},
   "source": [
    "7.  Check the permission for the `garbage` directory."
   ]
  },
  {
   "cell_type": "code",
   "execution_count": 15,
   "metadata": {},
   "outputs": [
    {
     "name": "stdout",
     "output_type": "stream",
     "text": [
      "drwx------ 2 Likhitha Likhitha 4096 Sep  5 19:15 \u001b[0m\u001b[01;34mgarbage\u001b[0m\n"
     ]
    }
   ],
   "source": [
    "ls -ld garbage"
   ]
  },
  {
   "cell_type": "markdown",
   "metadata": {},
   "source": [
    "8.  Delete this directory.\n",
    "9.  Create a directory called `session2` under the `chapter4` directory.\n",
    "10. Check the permission of this directory and make a note of it."
   ]
  },
  {
   "cell_type": "code",
   "execution_count": 16,
   "metadata": {},
   "outputs": [
    {
     "name": "stdout",
     "output_type": "stream",
     "text": [
      "drw-rw-r-- 2 Likhitha Likhitha 4096 Sep  5 19:20 \u001b[0m\u001b[01;34mchapter4/session2\u001b[0m\n"
     ]
    }
   ],
   "source": [
    "rmdir garbage\n",
    "mkdir chapter4/session2\n",
    "ls -ld chapter4/session2"
   ]
  },
  {
   "cell_type": "markdown",
   "metadata": {},
   "source": [
    "12. Move to the `session2` directory. You should have a problem. Do you\n",
    "    know what the problem is? Fix the problem."
   ]
  },
  {
   "cell_type": "code",
   "execution_count": 18,
   "metadata": {},
   "outputs": [
    {
     "name": "stdout",
     "output_type": "stream",
     "text": [
      "bash: cd: chapter4/session2/: Permission denied\n"
     ]
    }
   ],
   "source": [
    "cd chapter4/session2/\n",
    "chmod u+x chapter4/session2\n",
    "cd chapter4/session2/"
   ]
  },
  {
   "cell_type": "markdown",
   "metadata": {},
   "source": [
    "13. Create a file named `hw42` under this directory. Save this file.\n",
    "14. Check the permissions of this file."
   ]
  },
  {
   "cell_type": "code",
   "execution_count": 19,
   "metadata": {},
   "outputs": [
    {
     "name": "stdout",
     "output_type": "stream",
     "text": [
      "-rw-rw-r-- 1 Likhitha Likhitha 0 Sep  5 19:25 hw42\n"
     ]
    }
   ],
   "source": [
    "touch hw42\n",
    "ls -l hw42"
   ]
  },
  {
   "cell_type": "markdown",
   "metadata": {},
   "source": [
    "15. Change the permissions of this file so that every user can read,\n",
    "    modify, but not execute this file."
   ]
  },
  {
   "cell_type": "code",
   "execution_count": 20,
   "metadata": {},
   "outputs": [
    {
     "name": "stdout",
     "output_type": "stream",
     "text": [
      "-rw-rw-rw- 1 Likhitha Likhitha 0 Sep  5 19:25 hw42\n"
     ]
    }
   ],
   "source": [
    "chmod a+rw hw42\n",
    "chmod a-x hw42\n",
    "ls -l hw42"
   ]
  }
 ],
 "metadata": {
  "kernelspec": {
   "display_name": "Bash",
   "language": "bash",
   "name": "bash"
  },
  "language_info": {
   "codemirror_mode": "shell",
   "file_extension": ".sh",
   "mimetype": "text/x-sh",
   "name": "bash"
  },
  "name": "Untitled1.ipynb"
 },
 "nbformat": 4,
 "nbformat_minor": 2
}
